{
 "cells": [
  {
   "cell_type": "code",
   "execution_count": 1,
   "metadata": {},
   "outputs": [],
   "source": [
    "import pandas as pd\n",
    "import numpy as np\n",
    "import matplotlib.pyplot as plt\n",
    "import seaborn as sn"
   ]
  },
  {
   "cell_type": "code",
   "execution_count": 2,
   "metadata": {},
   "outputs": [],
   "source": [
    "attr_names = [\n",
    "    'chk_acc',\n",
    "    'duration',\n",
    "    'credit_his',\n",
    "    'purpose',\n",
    "    'amount',\n",
    "    'saving_acc',\n",
    "    'present_employment',\n",
    "    'installment_rate',\n",
    "    'sex_and_marital',\n",
    "    'other_debtors',\n",
    "    'present_resid',\n",
    "    'property',\n",
    "    'age',\n",
    "    'other_install',\n",
    "    'housing',\n",
    "    'num_credits',\n",
    "    'job',\n",
    "    'num_ppl',\n",
    "    'tel',\n",
    "    'is_foreign',\n",
    "    'y'\n",
    "]\n",
    "\n",
    "nominal_attr = [\n",
    "    'chk_acc',\n",
    "    'purpose',\n",
    "    'present_employment',\n",
    "    'other_debtors',\n",
    "    'other_install',\n",
    "    'job',\n",
    "    'is_foreign',\n",
    "    'credit_his',\n",
    "    'saving_acc',\n",
    "    'sex_and_marital',\n",
    "    'property',\n",
    "    'housing',\n",
    "    'tel'\n",
    "]\n",
    "\n",
    "ordinal_attr = [\n",
    "    'installment_rate',\n",
    "    'num_credits',\n",
    "    'num_ppl',\n",
    "    'present_resid'\n",
    "]\n",
    "\n",
    "df = pd.read_csv('data/german.data',\n",
    "                        header=None,\n",
    "                        delim_whitespace=True)\n",
    "\n",
    "df.columns = attr_names"
   ]
  },
  {
   "cell_type": "code",
   "execution_count": 3,
   "metadata": {},
   "outputs": [
    {
     "data": {
      "text/html": [
       "<div>\n",
       "<style scoped>\n",
       "    .dataframe tbody tr th:only-of-type {\n",
       "        vertical-align: middle;\n",
       "    }\n",
       "\n",
       "    .dataframe tbody tr th {\n",
       "        vertical-align: top;\n",
       "    }\n",
       "\n",
       "    .dataframe thead th {\n",
       "        text-align: right;\n",
       "    }\n",
       "</style>\n",
       "<table border=\"1\" class=\"dataframe\">\n",
       "  <thead>\n",
       "    <tr style=\"text-align: right;\">\n",
       "      <th></th>\n",
       "      <th>chk_acc</th>\n",
       "      <th>duration</th>\n",
       "      <th>credit_his</th>\n",
       "      <th>purpose</th>\n",
       "      <th>amount</th>\n",
       "      <th>saving_acc</th>\n",
       "      <th>present_employment</th>\n",
       "      <th>installment_rate</th>\n",
       "      <th>sex_and_marital</th>\n",
       "      <th>other_debtors</th>\n",
       "      <th>...</th>\n",
       "      <th>property</th>\n",
       "      <th>age</th>\n",
       "      <th>other_install</th>\n",
       "      <th>housing</th>\n",
       "      <th>num_credits</th>\n",
       "      <th>job</th>\n",
       "      <th>num_ppl</th>\n",
       "      <th>tel</th>\n",
       "      <th>is_foreign</th>\n",
       "      <th>y</th>\n",
       "    </tr>\n",
       "  </thead>\n",
       "  <tbody>\n",
       "    <tr>\n",
       "      <th>0</th>\n",
       "      <td>A11</td>\n",
       "      <td>6</td>\n",
       "      <td>A34</td>\n",
       "      <td>A43</td>\n",
       "      <td>1169</td>\n",
       "      <td>A65</td>\n",
       "      <td>A75</td>\n",
       "      <td>4</td>\n",
       "      <td>A93</td>\n",
       "      <td>A101</td>\n",
       "      <td>...</td>\n",
       "      <td>A121</td>\n",
       "      <td>67</td>\n",
       "      <td>A143</td>\n",
       "      <td>A152</td>\n",
       "      <td>2</td>\n",
       "      <td>A173</td>\n",
       "      <td>1</td>\n",
       "      <td>A192</td>\n",
       "      <td>A201</td>\n",
       "      <td>1</td>\n",
       "    </tr>\n",
       "    <tr>\n",
       "      <th>1</th>\n",
       "      <td>A12</td>\n",
       "      <td>48</td>\n",
       "      <td>A32</td>\n",
       "      <td>A43</td>\n",
       "      <td>5951</td>\n",
       "      <td>A61</td>\n",
       "      <td>A73</td>\n",
       "      <td>2</td>\n",
       "      <td>A92</td>\n",
       "      <td>A101</td>\n",
       "      <td>...</td>\n",
       "      <td>A121</td>\n",
       "      <td>22</td>\n",
       "      <td>A143</td>\n",
       "      <td>A152</td>\n",
       "      <td>1</td>\n",
       "      <td>A173</td>\n",
       "      <td>1</td>\n",
       "      <td>A191</td>\n",
       "      <td>A201</td>\n",
       "      <td>2</td>\n",
       "    </tr>\n",
       "    <tr>\n",
       "      <th>2</th>\n",
       "      <td>A14</td>\n",
       "      <td>12</td>\n",
       "      <td>A34</td>\n",
       "      <td>A46</td>\n",
       "      <td>2096</td>\n",
       "      <td>A61</td>\n",
       "      <td>A74</td>\n",
       "      <td>2</td>\n",
       "      <td>A93</td>\n",
       "      <td>A101</td>\n",
       "      <td>...</td>\n",
       "      <td>A121</td>\n",
       "      <td>49</td>\n",
       "      <td>A143</td>\n",
       "      <td>A152</td>\n",
       "      <td>1</td>\n",
       "      <td>A172</td>\n",
       "      <td>2</td>\n",
       "      <td>A191</td>\n",
       "      <td>A201</td>\n",
       "      <td>1</td>\n",
       "    </tr>\n",
       "    <tr>\n",
       "      <th>3</th>\n",
       "      <td>A11</td>\n",
       "      <td>42</td>\n",
       "      <td>A32</td>\n",
       "      <td>A42</td>\n",
       "      <td>7882</td>\n",
       "      <td>A61</td>\n",
       "      <td>A74</td>\n",
       "      <td>2</td>\n",
       "      <td>A93</td>\n",
       "      <td>A103</td>\n",
       "      <td>...</td>\n",
       "      <td>A122</td>\n",
       "      <td>45</td>\n",
       "      <td>A143</td>\n",
       "      <td>A153</td>\n",
       "      <td>1</td>\n",
       "      <td>A173</td>\n",
       "      <td>2</td>\n",
       "      <td>A191</td>\n",
       "      <td>A201</td>\n",
       "      <td>1</td>\n",
       "    </tr>\n",
       "    <tr>\n",
       "      <th>4</th>\n",
       "      <td>A11</td>\n",
       "      <td>24</td>\n",
       "      <td>A33</td>\n",
       "      <td>A40</td>\n",
       "      <td>4870</td>\n",
       "      <td>A61</td>\n",
       "      <td>A73</td>\n",
       "      <td>3</td>\n",
       "      <td>A93</td>\n",
       "      <td>A101</td>\n",
       "      <td>...</td>\n",
       "      <td>A124</td>\n",
       "      <td>53</td>\n",
       "      <td>A143</td>\n",
       "      <td>A153</td>\n",
       "      <td>2</td>\n",
       "      <td>A173</td>\n",
       "      <td>2</td>\n",
       "      <td>A191</td>\n",
       "      <td>A201</td>\n",
       "      <td>2</td>\n",
       "    </tr>\n",
       "    <tr>\n",
       "      <th>...</th>\n",
       "      <td>...</td>\n",
       "      <td>...</td>\n",
       "      <td>...</td>\n",
       "      <td>...</td>\n",
       "      <td>...</td>\n",
       "      <td>...</td>\n",
       "      <td>...</td>\n",
       "      <td>...</td>\n",
       "      <td>...</td>\n",
       "      <td>...</td>\n",
       "      <td>...</td>\n",
       "      <td>...</td>\n",
       "      <td>...</td>\n",
       "      <td>...</td>\n",
       "      <td>...</td>\n",
       "      <td>...</td>\n",
       "      <td>...</td>\n",
       "      <td>...</td>\n",
       "      <td>...</td>\n",
       "      <td>...</td>\n",
       "      <td>...</td>\n",
       "    </tr>\n",
       "    <tr>\n",
       "      <th>995</th>\n",
       "      <td>A14</td>\n",
       "      <td>12</td>\n",
       "      <td>A32</td>\n",
       "      <td>A42</td>\n",
       "      <td>1736</td>\n",
       "      <td>A61</td>\n",
       "      <td>A74</td>\n",
       "      <td>3</td>\n",
       "      <td>A92</td>\n",
       "      <td>A101</td>\n",
       "      <td>...</td>\n",
       "      <td>A121</td>\n",
       "      <td>31</td>\n",
       "      <td>A143</td>\n",
       "      <td>A152</td>\n",
       "      <td>1</td>\n",
       "      <td>A172</td>\n",
       "      <td>1</td>\n",
       "      <td>A191</td>\n",
       "      <td>A201</td>\n",
       "      <td>1</td>\n",
       "    </tr>\n",
       "    <tr>\n",
       "      <th>996</th>\n",
       "      <td>A11</td>\n",
       "      <td>30</td>\n",
       "      <td>A32</td>\n",
       "      <td>A41</td>\n",
       "      <td>3857</td>\n",
       "      <td>A61</td>\n",
       "      <td>A73</td>\n",
       "      <td>4</td>\n",
       "      <td>A91</td>\n",
       "      <td>A101</td>\n",
       "      <td>...</td>\n",
       "      <td>A122</td>\n",
       "      <td>40</td>\n",
       "      <td>A143</td>\n",
       "      <td>A152</td>\n",
       "      <td>1</td>\n",
       "      <td>A174</td>\n",
       "      <td>1</td>\n",
       "      <td>A192</td>\n",
       "      <td>A201</td>\n",
       "      <td>1</td>\n",
       "    </tr>\n",
       "    <tr>\n",
       "      <th>997</th>\n",
       "      <td>A14</td>\n",
       "      <td>12</td>\n",
       "      <td>A32</td>\n",
       "      <td>A43</td>\n",
       "      <td>804</td>\n",
       "      <td>A61</td>\n",
       "      <td>A75</td>\n",
       "      <td>4</td>\n",
       "      <td>A93</td>\n",
       "      <td>A101</td>\n",
       "      <td>...</td>\n",
       "      <td>A123</td>\n",
       "      <td>38</td>\n",
       "      <td>A143</td>\n",
       "      <td>A152</td>\n",
       "      <td>1</td>\n",
       "      <td>A173</td>\n",
       "      <td>1</td>\n",
       "      <td>A191</td>\n",
       "      <td>A201</td>\n",
       "      <td>1</td>\n",
       "    </tr>\n",
       "    <tr>\n",
       "      <th>998</th>\n",
       "      <td>A11</td>\n",
       "      <td>45</td>\n",
       "      <td>A32</td>\n",
       "      <td>A43</td>\n",
       "      <td>1845</td>\n",
       "      <td>A61</td>\n",
       "      <td>A73</td>\n",
       "      <td>4</td>\n",
       "      <td>A93</td>\n",
       "      <td>A101</td>\n",
       "      <td>...</td>\n",
       "      <td>A124</td>\n",
       "      <td>23</td>\n",
       "      <td>A143</td>\n",
       "      <td>A153</td>\n",
       "      <td>1</td>\n",
       "      <td>A173</td>\n",
       "      <td>1</td>\n",
       "      <td>A192</td>\n",
       "      <td>A201</td>\n",
       "      <td>2</td>\n",
       "    </tr>\n",
       "    <tr>\n",
       "      <th>999</th>\n",
       "      <td>A12</td>\n",
       "      <td>45</td>\n",
       "      <td>A34</td>\n",
       "      <td>A41</td>\n",
       "      <td>4576</td>\n",
       "      <td>A62</td>\n",
       "      <td>A71</td>\n",
       "      <td>3</td>\n",
       "      <td>A93</td>\n",
       "      <td>A101</td>\n",
       "      <td>...</td>\n",
       "      <td>A123</td>\n",
       "      <td>27</td>\n",
       "      <td>A143</td>\n",
       "      <td>A152</td>\n",
       "      <td>1</td>\n",
       "      <td>A173</td>\n",
       "      <td>1</td>\n",
       "      <td>A191</td>\n",
       "      <td>A201</td>\n",
       "      <td>1</td>\n",
       "    </tr>\n",
       "  </tbody>\n",
       "</table>\n",
       "<p>1000 rows × 21 columns</p>\n",
       "</div>"
      ],
      "text/plain": [
       "    chk_acc  duration credit_his purpose  amount saving_acc  \\\n",
       "0       A11         6        A34     A43    1169        A65   \n",
       "1       A12        48        A32     A43    5951        A61   \n",
       "2       A14        12        A34     A46    2096        A61   \n",
       "3       A11        42        A32     A42    7882        A61   \n",
       "4       A11        24        A33     A40    4870        A61   \n",
       "..      ...       ...        ...     ...     ...        ...   \n",
       "995     A14        12        A32     A42    1736        A61   \n",
       "996     A11        30        A32     A41    3857        A61   \n",
       "997     A14        12        A32     A43     804        A61   \n",
       "998     A11        45        A32     A43    1845        A61   \n",
       "999     A12        45        A34     A41    4576        A62   \n",
       "\n",
       "    present_employment  installment_rate sex_and_marital other_debtors  ...  \\\n",
       "0                  A75                 4             A93          A101  ...   \n",
       "1                  A73                 2             A92          A101  ...   \n",
       "2                  A74                 2             A93          A101  ...   \n",
       "3                  A74                 2             A93          A103  ...   \n",
       "4                  A73                 3             A93          A101  ...   \n",
       "..                 ...               ...             ...           ...  ...   \n",
       "995                A74                 3             A92          A101  ...   \n",
       "996                A73                 4             A91          A101  ...   \n",
       "997                A75                 4             A93          A101  ...   \n",
       "998                A73                 4             A93          A101  ...   \n",
       "999                A71                 3             A93          A101  ...   \n",
       "\n",
       "     property age  other_install housing num_credits   job num_ppl   tel  \\\n",
       "0        A121  67           A143    A152           2  A173       1  A192   \n",
       "1        A121  22           A143    A152           1  A173       1  A191   \n",
       "2        A121  49           A143    A152           1  A172       2  A191   \n",
       "3        A122  45           A143    A153           1  A173       2  A191   \n",
       "4        A124  53           A143    A153           2  A173       2  A191   \n",
       "..        ...  ..            ...     ...         ...   ...     ...   ...   \n",
       "995      A121  31           A143    A152           1  A172       1  A191   \n",
       "996      A122  40           A143    A152           1  A174       1  A192   \n",
       "997      A123  38           A143    A152           1  A173       1  A191   \n",
       "998      A124  23           A143    A153           1  A173       1  A192   \n",
       "999      A123  27           A143    A152           1  A173       1  A191   \n",
       "\n",
       "    is_foreign  y  \n",
       "0         A201  1  \n",
       "1         A201  2  \n",
       "2         A201  1  \n",
       "3         A201  1  \n",
       "4         A201  2  \n",
       "..         ... ..  \n",
       "995       A201  1  \n",
       "996       A201  1  \n",
       "997       A201  1  \n",
       "998       A201  2  \n",
       "999       A201  1  \n",
       "\n",
       "[1000 rows x 21 columns]"
      ]
     },
     "execution_count": 3,
     "metadata": {},
     "output_type": "execute_result"
    }
   ],
   "source": [
    "df"
   ]
  },
  {
   "cell_type": "code",
   "execution_count": 4,
   "metadata": {},
   "outputs": [
    {
     "data": {
      "text/plain": [
       "<matplotlib.axes._subplots.AxesSubplot at 0x7f3cafe6cbd0>"
      ]
     },
     "execution_count": 4,
     "metadata": {},
     "output_type": "execute_result"
    },
    {
     "data": {
      "image/png": "[encoded data removed]",
      "text/plain": [
       "<Figure size 432x288 with 1 Axes>"
      ]
     },
     "metadata": {
      "needs_background": "light"
     },
     "output_type": "display_data"
    }
   ],
   "source": [
    "df.y.value_counts().plot(kind='bar')"
   ]
  },
  {
   "cell_type": "markdown",
   "metadata": {},
   "source": [
    "## Cost matrix"
   ]
  },
  {
   "cell_type": "code",
   "execution_count": 5,
   "metadata": {},
   "outputs": [
    {
     "data": {
      "text/plain": [
       "<matplotlib.axes._subplots.AxesSubplot at 0x7f3caddcd7d0>"
      ]
     },
     "execution_count": 5,
     "metadata": {},
     "output_type": "execute_result"
    },
    {
     "data": {
      "image/png": "[encoded data removed]",
      "text/plain": [
       "<Figure size 432x288 with 2 Axes>"
      ]
     },
     "metadata": {
      "needs_background": "light"
     },
     "output_type": "display_data"
    }
   ],
   "source": [
    "cost_matrix = pd.DataFrame({'1':[0, 5], '2':[1, 0]})\n",
    "cost_matrix.index += 1\n",
    "sn.heatmap(cost_matrix, annot=True, cmap=\"YlGnBu\")"
   ]
  },
  {
   "cell_type": "code",
   "execution_count": 6,
   "metadata": {},
   "outputs": [
    {
     "data": {
      "image/png": "[encoded data removed]",
      "text/plain": [
       "<Figure size 720x360 with 3 Axes>"
      ]
     },
     "metadata": {
      "needs_background": "light"
     },
     "output_type": "display_data"
    }
   ],
   "source": [
    "fig, ax = plt.subplots(ncols=3, figsize=(10, 5))\n",
    "plt.tight_layout(pad=4)\n",
    "\n",
    "df.loc[df.y == 1].duration.plot.kde(ax=ax[0])\n",
    "df.loc[df.y == 2].duration.plot.kde(ax=ax[0])\n",
    "ax[0].set_xlim(df.duration.min(), df.duration.max())\n",
    "ax[0].set_xlabel(\"duration\")\n",
    "\n",
    "\n",
    "df.loc[df.y == 1].amount.plot.kde(ax=ax[1])\n",
    "df.loc[df.y == 2].amount.plot.kde(ax=ax[1])\n",
    "ax[1].set_xlim(df.amount.min(), df.amount.max())\n",
    "ax[1].set_xlabel(\"amount\")\n",
    "\n",
    "\n",
    "df.loc[df.y == 1].age.plot.kde(ax=ax[2])\n",
    "df.loc[df.y == 2].age.plot.kde(ax=ax[2])\n",
    "ax[2].set_xlim(df.age.min(), df.age.max())\n",
    "ax[2].set_xlabel(\"age\")\n",
    "\n",
    "\n",
    "for axes in ax:\n",
    "    vals = axes.get_yticks()\n",
    "    axes.set_yticklabels(['{:.2%}'.format(x) for x in vals])"
   ]
  },
  {
   "cell_type": "code",
   "execution_count": 7,
   "metadata": {},
   "outputs": [],
   "source": [
    "def plot_stack_y(col, ax):\n",
    "    grouped = df.groupby(['y', col])\\\n",
    "                .size()\\\n",
    "                .unstack()\n",
    "    percentage = grouped.apply(lambda x: x / x.sum()).T\n",
    "    percentage.plot(kind='bar', stacked=True, ax=ax, width=0.9, rot=0, colormap='tab10')\\\n",
    "              .legend(loc='center left', bbox_to_anchor=(1.0, 0.5))"
   ]
  },
  {
   "cell_type": "code",
   "execution_count": 8,
   "metadata": {},
   "outputs": [
    {
     "data": {
      "image/png": "[encoded data removed]",
      "text/plain": [
       "<Figure size 504x288 with 4 Axes>"
      ]
     },
     "metadata": {
      "needs_background": "light"
     },
     "output_type": "display_data"
    }
   ],
   "source": [
    "fig, ax = plt.subplots(nrows=2, ncols=2, figsize=(7, 4))\n",
    "plt.tight_layout()\n",
    "\n",
    "plot_stack_y('installment_rate', ax[0, 0])\n",
    "plot_stack_y('num_credits', ax[0, 1])\n",
    "plot_stack_y('num_ppl', ax[1, 0])\n",
    "plot_stack_y('present_resid', ax[1, 1])"
   ]
  },
  {
   "cell_type": "code",
   "execution_count": 9,
   "metadata": {
    "scrolled": false
   },
   "outputs": [
    {
     "data": {
      "image/png": "[encoded data removed]",
      "text/plain": [
       "<Figure size 360x1080 with 13 Axes>"
      ]
     },
     "metadata": {
      "needs_background": "light"
     },
     "output_type": "display_data"
    }
   ],
   "source": [
    "fig, ax = plt.subplots(nrows=13, figsize=(5, 15))\n",
    "plt.tight_layout()\n",
    "\n",
    "for i, attr in enumerate(nominal_attr):\n",
    "    plot_stack_y(attr, ax[i])"
   ]
  },
  {
   "cell_type": "markdown",
   "metadata": {},
   "source": [
    "## Data preprocessing (using all features)\n",
    "\n",
    "Our data has large number of nominal attributes. We have to process our nominal attributes in to numerical format so it can be use by the model.\n",
    "\n",
    "There are many ways of converting nominal into numerical value the most common one is one-hot encoding. However one-hot encoding create will create a new column per level of categorical attribute and might heavily effect the performance of Decision tree. Label encoding is use for previously stated reason."
   ]
  },
  {
   "cell_type": "code",
   "execution_count": 10,
   "metadata": {},
   "outputs": [],
   "source": [
    "from sklearn import preprocessing\n",
    "from sklearn.model_selection import train_test_split\n",
    "from sklearn.metrics import classification_report, confusion_matrix\n",
    "\n",
    "# Encode\n",
    "lb = preprocessing.LabelEncoder()\n",
    "df[nominal_attr] = df[nominal_attr].apply(lb.fit_transform)\n",
    "\n",
    "# Normalize\n",
    "min_max_scaler = preprocessing.MinMaxScaler()\n",
    "np_scaled = min_max_scaler.fit_transform(df)\n",
    "df = pd.DataFrame(np_scaled, columns=attr_names)\n",
    "\n",
    "x_train,\\\n",
    "x_test,\\\n",
    "y_train,\\\n",
    "y_test = train_test_split(df.drop(['y'], axis=1), df.y, test_size=0.30)"
   ]
  },
  {
   "cell_type": "code",
   "execution_count": 11,
   "metadata": {},
   "outputs": [],
   "source": [
    "def modelfit(alg, train, labels):\n",
    "    alg.fit(train, labels)\n",
    "    y_pred = alg.predict(x_test)\n",
    "    \n",
    "    print(classification_report(y_test, y_pred))\n",
    "    \n",
    "    return confusion_matrix(y_test, y_pred)"
   ]
  },
  {
   "cell_type": "markdown",
   "metadata": {},
   "source": [
    "## Decision Tree"
   ]
  },
  {
   "cell_type": "code",
   "execution_count": 12,
   "metadata": {},
   "outputs": [
    {
     "name": "stdout",
     "output_type": "stream",
     "text": [
      "              precision    recall  f1-score   support\n",
      "\n",
      "         0.0       0.80      0.82      0.81       213\n",
      "         1.0       0.53      0.48      0.50        87\n",
      "\n",
      "    accuracy                           0.72       300\n",
      "   macro avg       0.66      0.65      0.66       300\n",
      "weighted avg       0.72      0.72      0.72       300\n",
      "\n"
     ]
    }
   ],
   "source": [
    "from sklearn.tree import DecisionTreeClassifier\n",
    "\n",
    "dct_clf = DecisionTreeClassifier()\n",
    "dcs_tree_cm = modelfit(dct_clf, x_train, y_train)"
   ]
  },
  {
   "cell_type": "markdown",
   "metadata": {},
   "source": [
    "## Random Forest"
   ]
  },
  {
   "cell_type": "code",
   "execution_count": 13,
   "metadata": {},
   "outputs": [
    {
     "name": "stdout",
     "output_type": "stream",
     "text": [
      "              precision    recall  f1-score   support\n",
      "\n",
      "         0.0       0.75      0.94      0.84       213\n",
      "         1.0       0.62      0.24      0.35        87\n",
      "\n",
      "    accuracy                           0.74       300\n",
      "   macro avg       0.68      0.59      0.59       300\n",
      "weighted avg       0.71      0.74      0.69       300\n",
      "\n"
     ]
    }
   ],
   "source": [
    "from sklearn.ensemble import RandomForestClassifier\n",
    "\n",
    "randf_clf = RandomForestClassifier(n_estimators=10, max_features=\"auto\", random_state=0)\n",
    "rand_forest_cm = modelfit(randf_clf, x_train, y_train)"
   ]
  },
  {
   "cell_type": "markdown",
   "metadata": {},
   "source": [
    "## Ada Boost"
   ]
  },
  {
   "cell_type": "code",
   "execution_count": 14,
   "metadata": {},
   "outputs": [
    {
     "name": "stdout",
     "output_type": "stream",
     "text": [
      "              precision    recall  f1-score   support\n",
      "\n",
      "         0.0       0.71      1.00      0.83       213\n",
      "         1.0       0.50      0.01      0.02        87\n",
      "\n",
      "    accuracy                           0.71       300\n",
      "   macro avg       0.61      0.50      0.43       300\n",
      "weighted avg       0.65      0.71      0.60       300\n",
      "\n"
     ]
    }
   ],
   "source": [
    "from sklearn.ensemble import AdaBoostClassifier\n",
    "\n",
    "ada_clf = AdaBoostClassifier(n_estimators=20, learning_rate=0.1)\n",
    "ada_cm = modelfit(ada_clf, x_train, y_train)"
   ]
  },
  {
   "cell_type": "markdown",
   "metadata": {},
   "source": [
    "## Gradient Boost"
   ]
  },
  {
   "cell_type": "code",
   "execution_count": 15,
   "metadata": {},
   "outputs": [
    {
     "name": "stdout",
     "output_type": "stream",
     "text": [
      "              precision    recall  f1-score   support\n",
      "\n",
      "         0.0       0.77      0.95      0.85       213\n",
      "         1.0       0.71      0.31      0.43        87\n",
      "\n",
      "    accuracy                           0.76       300\n",
      "   macro avg       0.74      0.63      0.64       300\n",
      "weighted avg       0.75      0.76      0.73       300\n",
      "\n"
     ]
    }
   ],
   "source": [
    "from sklearn.ensemble import GradientBoostingClassifier\n",
    "\n",
    "gb_clf = GradientBoostingClassifier(n_estimators=20, learning_rate=0.1)\n",
    "gb_cm = modelfit(gb_clf, x_train, y_train)"
   ]
  },
  {
   "cell_type": "markdown",
   "metadata": {},
   "source": [
    "## XGBoost"
   ]
  },
  {
   "cell_type": "code",
   "execution_count": 16,
   "metadata": {},
   "outputs": [
    {
     "name": "stdout",
     "output_type": "stream",
     "text": [
      "              precision    recall  f1-score   support\n",
      "\n",
      "         0.0       0.78      0.90      0.84       213\n",
      "         1.0       0.61      0.39      0.48        87\n",
      "\n",
      "    accuracy                           0.75       300\n",
      "   macro avg       0.69      0.64      0.66       300\n",
      "weighted avg       0.73      0.75      0.73       300\n",
      "\n"
     ]
    }
   ],
   "source": [
    "from xgboost import XGBClassifier\n",
    "\n",
    "xgb_clf = XGBClassifier(n_estimators=20, learning_rate=0.1)\n",
    "xgb_cm = modelfit(xgb_clf, x_train, y_train)"
   ]
  },
  {
   "cell_type": "markdown",
   "metadata": {},
   "source": [
    "## Support Vector Machine"
   ]
  },
  {
   "cell_type": "code",
   "execution_count": 17,
   "metadata": {},
   "outputs": [
    {
     "name": "stdout",
     "output_type": "stream",
     "text": [
      "              precision    recall  f1-score   support\n",
      "\n",
      "         0.0       0.79      0.85      0.82       213\n",
      "         1.0       0.54      0.44      0.48        87\n",
      "\n",
      "    accuracy                           0.73       300\n",
      "   macro avg       0.66      0.64      0.65       300\n",
      "weighted avg       0.72      0.73      0.72       300\n",
      "\n"
     ]
    }
   ],
   "source": [
    "from sklearn.svm import SVC\n",
    "\n",
    "svm_clf = SVC(kernel='linear')\n",
    "svm_clf.fit(x_train,y_train)\n",
    "y_pred = svm_clf.predict(x_test)\n",
    "print(classification_report(y_test, y_pred))\n",
    "\n",
    "svm_cm = confusion_matrix(y_test, y_pred)"
   ]
  },
  {
   "cell_type": "markdown",
   "metadata": {},
   "source": [
    "## Feed Forward Neural Network"
   ]
  },
  {
   "cell_type": "code",
   "execution_count": 18,
   "metadata": {
    "scrolled": true
   },
   "outputs": [
    {
     "name": "stdout",
     "output_type": "stream",
     "text": [
      "Model: \"sequential\"\n",
      "_________________________________________________________________\n",
      "Layer (type)                 Output Shape              Param #   \n",
      "=================================================================\n",
      "dense (Dense)                (None, 64)                1344      \n",
      "_________________________________________________________________\n",
      "dense_1 (Dense)              (None, 64)                4160      \n",
      "_________________________________________________________________\n",
      "dense_2 (Dense)              (None, 2)                 130       \n",
      "=================================================================\n",
      "Total params: 5,634\n",
      "Trainable params: 5,634\n",
      "Non-trainable params: 0\n",
      "_________________________________________________________________\n"
     ]
    }
   ],
   "source": [
    "from tensorflow import keras\n",
    "\n",
    "model = keras.Sequential()\n",
    "\n",
    "model.add(keras.layers.Dense(64, activation='relu', input_shape=(20,)))\n",
    "model.add(keras.layers.Dense(64, activation='relu'))\n",
    "model.add(keras.layers.Dense(2, activation='softmax'))\n",
    "\n",
    "model.summary()"
   ]
  },
  {
   "cell_type": "code",
   "execution_count": 19,
   "metadata": {
    "scrolled": true
   },
   "outputs": [
    {
     "name": "stdout",
     "output_type": "stream",
     "text": [
      "Train on 700 samples\n",
      "Epoch 1/20\n",
      "700/700 [==============================] - 2s 3ms/sample - loss: 0.5922 - accuracy: 0.6957\n",
      "Epoch 2/20\n",
      "700/700 [==============================] - 0s 514us/sample - loss: 0.5540 - accuracy: 0.6971\n",
      "Epoch 3/20\n",
      "700/700 [==============================] - 0s 666us/sample - loss: 0.5275 - accuracy: 0.7171\n",
      "Epoch 4/20\n",
      "700/700 [==============================] - 0s 611us/sample - loss: 0.5004 - accuracy: 0.7629\n",
      "Epoch 5/20\n",
      "700/700 [==============================] - 0s 555us/sample - loss: 0.4816 - accuracy: 0.7714\n",
      "Epoch 6/20\n",
      "700/700 [==============================] - 0s 545us/sample - loss: 0.4673 - accuracy: 0.7800\n",
      "Epoch 7/20\n",
      "700/700 [==============================] - 0s 474us/sample - loss: 0.4598 - accuracy: 0.7857\n",
      "Epoch 8/20\n",
      "700/700 [==============================] - 0s 690us/sample - loss: 0.4518 - accuracy: 0.7843\n",
      "Epoch 9/20\n",
      "700/700 [==============================] - 0s 452us/sample - loss: 0.4439 - accuracy: 0.7900\n",
      "Epoch 10/20\n",
      "700/700 [==============================] - 0s 615us/sample - loss: 0.4431 - accuracy: 0.7943\n",
      "Epoch 11/20\n",
      "700/700 [==============================] - 0s 435us/sample - loss: 0.4345 - accuracy: 0.7929\n",
      "Epoch 12/20\n",
      "700/700 [==============================] - 0s 399us/sample - loss: 0.4307 - accuracy: 0.8029\n",
      "Epoch 13/20\n",
      "700/700 [==============================] - 0s 418us/sample - loss: 0.4267 - accuracy: 0.8100\n",
      "Epoch 14/20\n",
      "700/700 [==============================] - 0s 376us/sample - loss: 0.4209 - accuracy: 0.8129\n",
      "Epoch 15/20\n",
      "700/700 [==============================] - 0s 284us/sample - loss: 0.4162 - accuracy: 0.8086\n",
      "Epoch 16/20\n",
      "700/700 [==============================] - 0s 341us/sample - loss: 0.4085 - accuracy: 0.8143\n",
      "Epoch 17/20\n",
      "700/700 [==============================] - 0s 461us/sample - loss: 0.4090 - accuracy: 0.8171\n",
      "Epoch 18/20\n",
      "700/700 [==============================] - 0s 342us/sample - loss: 0.3967 - accuracy: 0.8243\n",
      "Epoch 19/20\n",
      "700/700 [==============================] - 0s 471us/sample - loss: 0.4064 - accuracy: 0.8186\n",
      "Epoch 20/20\n",
      "700/700 [==============================] - 0s 289us/sample - loss: 0.3954 - accuracy: 0.8271\n"
     ]
    },
    {
     "data": {
      "text/plain": [
       "<tensorflow.python.keras.callbacks.History at 0x7f3bf8166d10>"
      ]
     },
     "execution_count": 19,
     "metadata": {},
     "output_type": "execute_result"
    }
   ],
   "source": [
    "model.compile(optimizer='adam',\n",
    "                loss=keras.losses.sparse_categorical_crossentropy,\n",
    "                metrics=['accuracy'])\n",
    "\n",
    "model.fit(x=x_train,\n",
    "          y=y_train,\n",
    "          epochs=20)"
   ]
  },
  {
   "cell_type": "code",
   "execution_count": 20,
   "metadata": {},
   "outputs": [
    {
     "name": "stdout",
     "output_type": "stream",
     "text": [
      "300/300 [==============================] - 0s 410us/sample - loss: 0.5282 - accuracy: 0.7133\n"
     ]
    },
    {
     "data": {
      "text/plain": [
       "[0.5281990512212118, 0.7133333]"
      ]
     },
     "execution_count": 20,
     "metadata": {},
     "output_type": "execute_result"
    }
   ],
   "source": [
    "y_pred = model.predict(x_test)\n",
    "\n",
    "nn_cm = confusion_matrix(y_test, y_pred.argmax(axis=1))\n",
    "model.evaluate(x_test, y_test)"
   ]
  },
  {
   "cell_type": "markdown",
   "metadata": {},
   "source": [
    "## Confusion Matrices Comparison"
   ]
  },
  {
   "cell_type": "code",
   "execution_count": 21,
   "metadata": {},
   "outputs": [],
   "source": [
    "def cost(cf_matrix):\n",
    "    return (cf_matrix * cost_matrix).sum().sum()"
   ]
  },
  {
   "cell_type": "code",
   "execution_count": 22,
   "metadata": {
    "scrolled": false
   },
   "outputs": [
    {
     "data": {
      "image/png": "[encoded data removed]",
      "text/plain": [
       "<Figure size 864x648 with 16 Axes>"
      ]
     },
     "metadata": {
      "needs_background": "light"
     },
     "output_type": "display_data"
    }
   ],
   "source": [
    "fig, ax = plt.subplots(nrows=3, ncols=3, figsize=(12, 9))\n",
    "plt.tight_layout()\n",
    "\n",
    "cms = [\n",
    "    dcs_tree_cm,\n",
    "    rand_forest_cm,\n",
    "    ada_cm,\n",
    "    gb_cm,\n",
    "    xgb_cm,\n",
    "    svm_cm,\n",
    "    nn_cm\n",
    "]\n",
    "\n",
    "cm_names = [\n",
    "    'decision tree',\n",
    "    'random forest',\n",
    "    'adaboost',\n",
    "    'gradient boost',\n",
    "    'xgboost',\n",
    "    'support vector',\n",
    "    'neural network'\n",
    "]\n",
    "\n",
    "max_pred = 0\n",
    "for cm in cms:\n",
    "    if cm.max() > max_pred:\n",
    "        max_pred = cm.max()\n",
    "        \n",
    "ax[2, 1].axis('off')\n",
    "ax[2, 2].axis('off')\n",
    "\n",
    "for i, ax in enumerate(ax.flatten()[:-2]):\n",
    "    sn.heatmap(cms[i], annot=True, ax=ax, fmt='1', vmin=0, vmax=max_pred).set_title(cm_names[i])"
   ]
  },
  {
   "cell_type": "code",
   "execution_count": 23,
   "metadata": {
    "scrolled": false
   },
   "outputs": [
    {
     "name": "stdout",
     "output_type": "stream",
     "text": [
      "Accuracy decision tree\t: 0.72\n",
      "Accuracy random forest\t: 0.74\n",
      "Accuracy adaboost\t: 0.71\n",
      "Accuracy gradient boost\t: 0.76\n",
      "Accuracy xgboost\t: 0.75\n",
      "Accuracy support vector\t: 0.73\n",
      "Accuracy neural network\t: 0.71\n"
     ]
    },
    {
     "data": {
      "text/plain": [
       "<matplotlib.legend.Legend at 0x7f3cad36b150>"
      ]
     },
     "execution_count": 23,
     "metadata": {},
     "output_type": "execute_result"
    },
    {
     "data": {
      "image/png": "[encoded data removed]",
      "text/plain": [
       "<Figure size 432x288 with 1 Axes>"
      ]
     },
     "metadata": {
      "needs_background": "light"
     },
     "output_type": "display_data"
    }
   ],
   "source": [
    "cost_full = [[\n",
    "    cost(dcs_tree_cm),\n",
    "    cost(rand_forest_cm),\n",
    "    cost(ada_cm),\n",
    "    cost(gb_cm),\n",
    "    cost(xgb_cm),\n",
    "    cost(svm_cm),\n",
    "    cost(nn_cm)\n",
    "]]\n",
    "\n",
    "accuracy = [(cm[0, 0] + cm[1, 1]) / 300 for i, cm in enumerate(cms)]\n",
    "\n",
    "for i, acc in enumerate(accuracy):\n",
    "    print('Accuracy {}\\t: {:.2g}'.format(cm_names[i], acc))\n",
    "\n",
    "pd.DataFrame(cost_full, columns=cm_names).plot(kind='bar', width=3, title='cost', colormap='Paired')\\\n",
    "    .legend(loc='center left', bbox_to_anchor=(1.1, 0.5))\\"
   ]
  },
  {
   "cell_type": "markdown",
   "metadata": {},
   "source": [
    "## Visualization of Feature Importance using Chi-square test"
   ]
  },
  {
   "cell_type": "code",
   "execution_count": 24,
   "metadata": {},
   "outputs": [
    {
     "data": {
      "image/png": "[encoded data removed]",
      "text/plain": [
       "<Figure size 432x288 with 1 Axes>"
      ]
     },
     "metadata": {
      "needs_background": "light"
     },
     "output_type": "display_data"
    }
   ],
   "source": [
    "from sklearn.feature_selection import SelectKBest\n",
    "from sklearn.feature_selection import chi2\n",
    "\n",
    "\n",
    "fs = SelectKBest(score_func=chi2, k='all')\n",
    "\n",
    "sum_fs = np.array([0.0]*20)\n",
    "for i in range(100):\n",
    "    sum_fs += fs.fit(x_train, y_train).scores_\n",
    "    \n",
    "avg_fs = sum_fs / 100\n",
    "plt.bar([attr_names[i] for i in range(len(avg_fs))], avg_fs)\n",
    "plt.xticks(rotation=90)\n",
    "plt.show()"
   ]
  },
  {
   "cell_type": "code",
   "execution_count": 25,
   "metadata": {},
   "outputs": [],
   "source": [
    "def select_features(x_train, y_train, x_test):\n",
    "    fs = SelectKBest(score_func=chi2, k=8)\n",
    "    \n",
    "    sum_fs = np.array([0.0]*20)\n",
    "    for i in range(100):\n",
    "        sum_fs += fs.fit(x_train, y_train).scores_\n",
    "    \n",
    "    avg_fs = sum_fs / 100\n",
    "    fs.fit(x_train, y_train)\n",
    "    x_train_fs = fs.transform(x_train)\n",
    "    x_test_fs = fs.transform(x_test)\n",
    "    return x_train_fs, x_test_fs\n",
    "\n",
    "\n",
    "x_train, x_test = select_features(x_train, y_train, x_test)"
   ]
  },
  {
   "cell_type": "markdown",
   "metadata": {},
   "source": [
    "## Decesion Tree (reduced dimensions)"
   ]
  },
  {
   "cell_type": "code",
   "execution_count": 26,
   "metadata": {},
   "outputs": [
    {
     "name": "stdout",
     "output_type": "stream",
     "text": [
      "              precision    recall  f1-score   support\n",
      "\n",
      "         0.0       0.81      0.78      0.79       213\n",
      "         1.0       0.50      0.54      0.52        87\n",
      "\n",
      "    accuracy                           0.71       300\n",
      "   macro avg       0.65      0.66      0.66       300\n",
      "weighted avg       0.72      0.71      0.71       300\n",
      "\n"
     ]
    }
   ],
   "source": [
    "dcs_tree_cm = modelfit(dct_clf, x_train, y_train)"
   ]
  },
  {
   "cell_type": "markdown",
   "metadata": {},
   "source": [
    "## Random Forest (reduced dimensions)"
   ]
  },
  {
   "cell_type": "code",
   "execution_count": 27,
   "metadata": {},
   "outputs": [
    {
     "name": "stdout",
     "output_type": "stream",
     "text": [
      "              precision    recall  f1-score   support\n",
      "\n",
      "         0.0       0.78      0.92      0.85       213\n",
      "         1.0       0.67      0.37      0.47        87\n",
      "\n",
      "    accuracy                           0.76       300\n",
      "   macro avg       0.72      0.65      0.66       300\n",
      "weighted avg       0.75      0.76      0.74       300\n",
      "\n"
     ]
    }
   ],
   "source": [
    "rand_forest_cm = modelfit(randf_clf, x_train, y_train)"
   ]
  },
  {
   "cell_type": "markdown",
   "metadata": {},
   "source": [
    "## Adaboost (reduced dimensions)"
   ]
  },
  {
   "cell_type": "code",
   "execution_count": 28,
   "metadata": {},
   "outputs": [
    {
     "name": "stdout",
     "output_type": "stream",
     "text": [
      "              precision    recall  f1-score   support\n",
      "\n",
      "         0.0       0.71      1.00      0.83       213\n",
      "         1.0       0.50      0.01      0.02        87\n",
      "\n",
      "    accuracy                           0.71       300\n",
      "   macro avg       0.61      0.50      0.43       300\n",
      "weighted avg       0.65      0.71      0.60       300\n",
      "\n"
     ]
    }
   ],
   "source": [
    "ada_cm = modelfit(ada_clf, x_train, y_train)"
   ]
  },
  {
   "cell_type": "markdown",
   "metadata": {},
   "source": [
    "## Gradient Boost (reduced dimensions)"
   ]
  },
  {
   "cell_type": "code",
   "execution_count": 29,
   "metadata": {},
   "outputs": [
    {
     "name": "stdout",
     "output_type": "stream",
     "text": [
      "              precision    recall  f1-score   support\n",
      "\n",
      "         0.0       0.78      0.94      0.85       213\n",
      "         1.0       0.70      0.34      0.46        87\n",
      "\n",
      "    accuracy                           0.77       300\n",
      "   macro avg       0.74      0.64      0.66       300\n",
      "weighted avg       0.75      0.77      0.74       300\n",
      "\n"
     ]
    }
   ],
   "source": [
    "gb_cm = modelfit(gb_clf, x_train, y_train)"
   ]
  },
  {
   "cell_type": "markdown",
   "metadata": {},
   "source": [
    "## XGBoost (reduced dimensions)"
   ]
  },
  {
   "cell_type": "code",
   "execution_count": 30,
   "metadata": {},
   "outputs": [
    {
     "name": "stdout",
     "output_type": "stream",
     "text": [
      "              precision    recall  f1-score   support\n",
      "\n",
      "         0.0       0.80      0.89      0.84       213\n",
      "         1.0       0.62      0.45      0.52        87\n",
      "\n",
      "    accuracy                           0.76       300\n",
      "   macro avg       0.71      0.67      0.68       300\n",
      "weighted avg       0.75      0.76      0.75       300\n",
      "\n"
     ]
    }
   ],
   "source": [
    "xgb_cm = modelfit(xgb_clf, x_train, y_train)"
   ]
  },
  {
   "cell_type": "code",
   "execution_count": 31,
   "metadata": {},
   "outputs": [
    {
     "name": "stdout",
     "output_type": "stream",
     "text": [
      "Model: \"sequential_1\"\n",
      "_________________________________________________________________\n",
      "Layer (type)                 Output Shape              Param #   \n",
      "=================================================================\n",
      "dense_3 (Dense)              (None, 64)                576       \n",
      "_________________________________________________________________\n",
      "dense_4 (Dense)              (None, 64)                4160      \n",
      "_________________________________________________________________\n",
      "dense_5 (Dense)              (None, 2)                 130       \n",
      "=================================================================\n",
      "Total params: 4,866\n",
      "Trainable params: 4,866\n",
      "Non-trainable params: 0\n",
      "_________________________________________________________________\n"
     ]
    }
   ],
   "source": [
    "model = keras.Sequential()\n",
    "\n",
    "model.add(keras.layers.Dense(64, activation='relu', input_shape=(8,)))\n",
    "model.add(keras.layers.Dense(64, activation='relu'))\n",
    "model.add(keras.layers.Dense(2, activation='softmax'))\n",
    "\n",
    "model.summary()"
   ]
  },
  {
   "cell_type": "code",
   "execution_count": 32,
   "metadata": {
    "scrolled": true
   },
   "outputs": [
    {
     "name": "stdout",
     "output_type": "stream",
     "text": [
      "Train on 700 samples\n",
      "Epoch 1/20\n",
      "700/700 [==============================] - 1s 1ms/sample - loss: 0.5881 - accuracy: 0.6957\n",
      "Epoch 2/20\n",
      "700/700 [==============================] - 0s 564us/sample - loss: 0.5466 - accuracy: 0.7000\n",
      "Epoch 3/20\n",
      "700/700 [==============================] - 0s 476us/sample - loss: 0.5169 - accuracy: 0.7400\n",
      "Epoch 4/20\n",
      "700/700 [==============================] - 0s 549us/sample - loss: 0.4996 - accuracy: 0.7529\n",
      "Epoch 5/20\n",
      "700/700 [==============================] - 0s 498us/sample - loss: 0.4933 - accuracy: 0.7543\n",
      "Epoch 6/20\n",
      "700/700 [==============================] - 0s 553us/sample - loss: 0.4882 - accuracy: 0.7586\n",
      "Epoch 7/20\n",
      "700/700 [==============================] - 0s 567us/sample - loss: 0.4831 - accuracy: 0.7657\n",
      "Epoch 8/20\n",
      "700/700 [==============================] - 0s 568us/sample - loss: 0.4895 - accuracy: 0.7657\n",
      "Epoch 9/20\n",
      "700/700 [==============================] - 0s 478us/sample - loss: 0.4817 - accuracy: 0.7743\n",
      "Epoch 10/20\n",
      "700/700 [==============================] - 0s 564us/sample - loss: 0.4784 - accuracy: 0.7700\n",
      "Epoch 11/20\n",
      "700/700 [==============================] - 0s 605us/sample - loss: 0.4748 - accuracy: 0.7786\n",
      "Epoch 12/20\n",
      "700/700 [==============================] - 0s 682us/sample - loss: 0.4714 - accuracy: 0.7843\n",
      "Epoch 13/20\n",
      "700/700 [==============================] - 0s 535us/sample - loss: 0.4708 - accuracy: 0.7829\n",
      "Epoch 14/20\n",
      "700/700 [==============================] - 0s 399us/sample - loss: 0.4705 - accuracy: 0.7900\n",
      "Epoch 15/20\n",
      "700/700 [==============================] - 0s 502us/sample - loss: 0.4651 - accuracy: 0.7886\n",
      "Epoch 16/20\n",
      "700/700 [==============================] - 0s 538us/sample - loss: 0.4688 - accuracy: 0.7857\n",
      "Epoch 17/20\n",
      "700/700 [==============================] - 0s 693us/sample - loss: 0.4649 - accuracy: 0.7886\n",
      "Epoch 18/20\n",
      "700/700 [==============================] - 0s 435us/sample - loss: 0.4621 - accuracy: 0.8000\n",
      "Epoch 19/20\n",
      "700/700 [==============================] - 0s 580us/sample - loss: 0.4609 - accuracy: 0.7914\n",
      "Epoch 20/20\n",
      "700/700 [==============================] - 0s 371us/sample - loss: 0.4591 - accuracy: 0.7900\n",
      "300/300 [==============================] - 0s 635us/sample - loss: 0.5385 - accuracy: 0.7500\n"
     ]
    },
    {
     "data": {
      "text/plain": [
       "[0.5385002533594767, 0.75]"
      ]
     },
     "execution_count": 32,
     "metadata": {},
     "output_type": "execute_result"
    }
   ],
   "source": [
    "model.compile(optimizer='adam',\n",
    "                loss=keras.losses.sparse_categorical_crossentropy,\n",
    "                metrics=['accuracy'])\n",
    "\n",
    "model.fit(x=x_train,\n",
    "          y=y_train,\n",
    "          epochs=20)\n",
    "\n",
    "y_pred = model.predict(x_test)\n",
    "\n",
    "nn_cm = confusion_matrix(y_test, y_pred.argmax(axis=1))\n",
    "model.evaluate(x_test, y_test)"
   ]
  },
  {
   "cell_type": "code",
   "execution_count": 33,
   "metadata": {},
   "outputs": [
    {
     "data": {
      "image/png": "[encoded data removed]",
      "text/plain": [
       "<Figure size 864x648 with 16 Axes>"
      ]
     },
     "metadata": {
      "needs_background": "light"
     },
     "output_type": "display_data"
    }
   ],
   "source": [
    "fig, ax = plt.subplots(nrows=3, ncols=3, figsize=(12, 9))\n",
    "plt.tight_layout()\n",
    "\n",
    "cms = [\n",
    "    dcs_tree_cm,\n",
    "    rand_forest_cm,\n",
    "    ada_cm,\n",
    "    gb_cm,\n",
    "    xgb_cm,\n",
    "    svm_cm,\n",
    "    nn_cm\n",
    "]\n",
    "\n",
    "max_pred = 0\n",
    "for cm in cms:\n",
    "    if cm.max() > max_pred:\n",
    "        max_pred = cm.max()\n",
    "        \n",
    "ax[2, 1].axis('off')\n",
    "ax[2, 2].axis('off')\n",
    "\n",
    "for i, ax in enumerate(ax.flatten()[:-2]):\n",
    "    sn.heatmap(cms[i], annot=True, ax=ax, fmt='1', vmin=0, vmax=max_pred).set_title(cm_names[i])"
   ]
  },
  {
   "cell_type": "code",
   "execution_count": 34,
   "metadata": {},
   "outputs": [
    {
     "name": "stdout",
     "output_type": "stream",
     "text": [
      "Accuracy decision tree\t: 0.71\n",
      "Accuracy random forest\t: 0.76\n",
      "Accuracy adaboost\t: 0.71\n",
      "Accuracy gradient boost\t: 0.77\n",
      "Accuracy xgboost\t: 0.76\n",
      "Accuracy support vector\t: 0.73\n",
      "Accuracy neural network\t: 0.75\n"
     ]
    },
    {
     "data": {
      "text/plain": [
       "<matplotlib.legend.Legend at 0x7f3bcc0dc390>"
      ]
     },
     "execution_count": 34,
     "metadata": {},
     "output_type": "execute_result"
    },
    {
     "data": {
      "image/png": "[encoded data removed]",
      "text/plain": [
       "<Figure size 432x288 with 1 Axes>"
      ]
     },
     "metadata": {
      "needs_background": "light"
     },
     "output_type": "display_data"
    }
   ],
   "source": [
    "cost_reduced = [[\n",
    "    cost(dcs_tree_cm),\n",
    "    cost(rand_forest_cm),\n",
    "    cost(ada_cm),\n",
    "    cost(gb_cm),\n",
    "    cost(xgb_cm),\n",
    "    cost(svm_cm),\n",
    "    cost(nn_cm)\n",
    "]]\n",
    "\n",
    "accuracy_reduced = [(cm[0, 0] + cm[1, 1]) / 300 for i, cm in enumerate(cms)]\n",
    "\n",
    "for i, acc in enumerate(accuracy_reduced):\n",
    "    print('Accuracy {}\\t: {:.2g}'.format(cm_names[i], acc))\n",
    "\n",
    "pd.DataFrame(cost_reduced, columns=cm_names).plot(kind='bar', width=3, title='cost', colormap='Paired')\\\n",
    "    .legend(loc='center left', bbox_to_anchor=(1.1, 0.5))\\"
   ]
  },
  {
   "cell_type": "code",
   "execution_count": 35,
   "metadata": {},
   "outputs": [
    {
     "data": {
      "image/png": "[encoded data removed]",
      "text/plain": [
       "<Figure size 360x432 with 1 Axes>"
      ]
     },
     "metadata": {
      "needs_background": "light"
     },
     "output_type": "display_data"
    }
   ],
   "source": [
    "fig, ax = plt.subplots(figsize=(5, 6))\n",
    "diff = np.array(accuracy_reduced) - np.array(accuracy)\n",
    "\n",
    "plt.barh(cm_names,\n",
    "        diff,\n",
    "        color='green',\n",
    "        zorder=3)\n",
    "plt.grid(zorder=0)"
   ]
  },
  {
   "cell_type": "code",
   "execution_count": 36,
   "metadata": {},
   "outputs": [
    {
     "data": {
      "image/png": "[encoded data removed]",
      "text/plain": [
       "<Figure size 360x432 with 1 Axes>"
      ]
     },
     "metadata": {
      "needs_background": "light"
     },
     "output_type": "display_data"
    }
   ],
   "source": [
    "fig, ax = plt.subplots(figsize=(5, 6))\n",
    "diff = np.array(cost_reduced[0]) - np.array(cost_full[0])\n",
    "plt.barh(cm_names,\n",
    "        diff,\n",
    "        color='c',\n",
    "        zorder=3)\n",
    "plt.xticks(rotation=60)\n",
    "plt.grid(zorder=0)"
   ]
  }
 ],
 "metadata": {
  "kernelspec": {
   "display_name": "Python 3",
   "language": "python",
   "name": "python3"
  },
  "language_info": {
   "codemirror_mode": {
    "name": "ipython",
    "version": 3
   },
   "file_extension": ".py",
   "mimetype": "text/x-python",
   "name": "python",
   "nbconvert_exporter": "python",
   "pygments_lexer": "ipython3",
   "version": "3.7.6"
  }
 },
 "nbformat": 4,
 "nbformat_minor": 4
}
